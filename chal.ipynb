{
 "cells": [
  {
   "cell_type": "markdown",
   "id": "7b742dce",
   "metadata": {},
   "source": [
    "# Challenge 1 : Création et Exploration du DataFrame"
   ]
  },
  {
   "cell_type": "code",
   "execution_count": 42,
   "id": "856a1a70",
   "metadata": {},
   "outputs": [],
   "source": [
    "import pandas as pd\n",
    "import numpy as np\n",
    "\n",
    "# Définir les colonnes et les données\n",
    "columns = [\"Nom\", \"Âge\", \"Ville\"]\n",
    "data = [\n",
    "    [\"Amine\", 28, \"Casablanca\"],\n",
    "    [\"Lina\", 22, \"Rabat\"],\n",
    "    [\"Youssef\", 35, \"Fès\"],\n",
    "    [\"Salma\", 30, \"Casablanca\"],\n",
    "    [\"Nora\", np.nan, \"Tanger\"]\n",
    "]\n",
    "\n",
    "# Créer un DataFrame avec 3 colonnes : Nom, Âge, Ville\n",
    "df = pd.DataFrame(data, columns=columns)"
   ]
  },
  {
   "cell_type": "code",
   "execution_count": 33,
   "id": "73f3165a",
   "metadata": {},
   "outputs": [
    {
     "name": "stdout",
     "output_type": "stream",
     "text": [
      "Les 3 premières lignes:\n",
      "       Nom   Âge       Ville\n",
      "0    Amine  28.0  Casablanca\n",
      "1     Lina  22.0       Rabat\n",
      "2  Youssef  35.0         Fès\n"
     ]
    }
   ],
   "source": [
    "# Afficher les 3 premières lignes avec head()\n",
    "print(\"Les 3 premières lignes:\")\n",
    "print(df.head(3))\n"
   ]
  },
  {
   "cell_type": "markdown",
   "id": "8516b37e",
   "metadata": {},
   "source": [
    "###  Interprétation des premières lignes :\n",
    "- **5 lignes au total** avec 3 colonnes : Nom, Âge, Ville\n",
    "- **Valeur manquante détectée** : Nora a `NaN` pour l'âge\n",
    "- **Types de données** : Noms et villes en texte, âges en nombres décimaux\n",
    "- **Échantillon représentatif** de personnes de différentes villes marocaines"
   ]
  },
  {
   "cell_type": "markdown",
   "id": "31c69658",
   "metadata": {},
   "source": [
    "# Afficher la structure du DataFrame avec info()"
   ]
  },
  {
   "cell_type": "code",
   "execution_count": 34,
   "id": "77c5f692",
   "metadata": {},
   "outputs": [
    {
     "name": "stdout",
     "output_type": "stream",
     "text": [
      "\n",
      "Structure du DataFrame:\n",
      "<class 'pandas.core.frame.DataFrame'>\n",
      "RangeIndex: 5 entries, 0 to 4\n",
      "Data columns (total 3 columns):\n",
      " #   Column  Non-Null Count  Dtype  \n",
      "---  ------  --------------  -----  \n",
      " 0   Nom     5 non-null      object \n",
      " 1   Âge     4 non-null      float64\n",
      " 2   Ville   5 non-null      object \n",
      "dtypes: float64(1), object(2)\n",
      "memory usage: 252.0+ bytes\n"
     ]
    }
   ],
   "source": [
    "\n",
    "print(\"\\nStructure du DataFrame:\")\n",
    "df.info()\n"
   ]
  },
  {
   "cell_type": "markdown",
   "id": "6373399b",
   "metadata": {},
   "source": [
    "###  Interprétation de la structure :\n",
    "- **5 entrées** (lignes 0 à 4) dans le DataFrame\n",
    "- **3 colonnes** au total\n",
    "- **Colonne Âge** : seulement 4 valeurs non-nulles sur 5 (1 valeur manquante)\n",
    "- **Types de données** :\n",
    "  - `object` : pour les chaînes de caractères (Nom, Ville)\n",
    "  - `float64` : pour les nombres décimaux (Âge)\n",
    "- **Mémoire utilisée** : 252+ bytes (très léger)"
   ]
  },
  {
   "cell_type": "markdown",
   "id": "3fa155bc",
   "metadata": {},
   "source": [
    " Afficher des statistiques descriptives avec describe()"
   ]
  },
  {
   "cell_type": "code",
   "execution_count": 35,
   "id": "3e191ef2",
   "metadata": {},
   "outputs": [
    {
     "name": "stdout",
     "output_type": "stream",
     "text": [
      "\n",
      "Statistiques descriptives:\n",
      "             Âge\n",
      "count   4.000000\n",
      "mean   28.750000\n",
      "std     5.377422\n",
      "min    22.000000\n",
      "25%    26.500000\n",
      "50%    29.000000\n",
      "75%    31.250000\n",
      "max    35.000000\n"
     ]
    }
   ],
   "source": [
    "\n",
    "print(\"\\nStatistiques descriptives:\")\n",
    "print(df.describe())"
   ]
  },
  {
   "cell_type": "markdown",
   "id": "c0cbf4c9",
   "metadata": {},
   "source": [
    "###  Interprétation des statistiques :\n",
    "- **Échantillon** : 4 personnes avec âge connu (Nora exclue)\n",
    "- **Âge moyen** : 28.75 ans\n",
    "- **Âge médian** : 29 ans (50e percentile)\n",
    "- **Écart-type** : 5.38 ans (faible variabilité)\n",
    "- **Distribution** :\n",
    "  - Plus jeune : 22 ans (Lina)\n",
    "  - Plus âgé : 35 ans (Youssef)\n",
    "  - Écart interquartile : 26.5 - 31.25 ans"
   ]
  },
  {
   "cell_type": "markdown",
   "id": "51f83885",
   "metadata": {},
   "source": [
    "# challenge 2"
   ]
  },
  {
   "cell_type": "code",
   "execution_count": 37,
   "id": "c5103365",
   "metadata": {},
   "outputs": [
    {
     "name": "stdout",
     "output_type": "stream",
     "text": [
      "La colonne Ville contient les valeurs uniques suivantes :\n",
      "['Casablanca' 'Rabat' 'Fès' 'Tanger']\n"
     ]
    }
   ],
   "source": [
    "# Afficher les valeurs uniques de la colonne \"Ville\"\n",
    "print(\"La colonne Ville contient les valeurs uniques suivantes :\")\n",
    "print(df[\"Ville\"].unique())"
   ]
  },
  {
   "cell_type": "markdown",
   "id": "7e48af81",
   "metadata": {},
   "source": [
    "### 🏙️ Interprétation des villes uniques :\n",
    "- **4 villes distinctes** dans notre dataset\n",
    "- **Répartition géographique** : principales villes du Maroc\n",
    "- **Pas de doublons** dans les noms de villes\n",
    "- **Couverture nationale** : Nord (Tanger), Centre (Casablanca, Rabat), Sud-Est (Fès)"
   ]
  },
  {
   "cell_type": "code",
   "execution_count": 43,
   "id": "7d8a63b6",
   "metadata": {},
   "outputs": [
    {
     "name": "stdout",
     "output_type": "stream",
     "text": [
      "Les personnes de plus de 25 ans:\n",
      "       Nom   Âge       Ville\n",
      "0    Amine  28.0  Casablanca\n",
      "2  Youssef  35.0         Fès\n",
      "3    Salma  30.0  Casablanca\n"
     ]
    }
   ],
   "source": [
    "#Afficher les valeurs age sup de 25 ans\n",
    "print(\"Les personnes de plus de 25 ans:\")\n",
    "print(df[df[\"Âge\"] > 25])"
   ]
  },
  {
   "cell_type": "markdown",
   "id": "c8635151",
   "metadata": {},
   "source": [
    "###  Interprétation du filtrage par âge :\n",
    "- **3 personnes** ont plus de 25 ans sur 5 total\n",
    "- **Filtrage automatique** des valeurs NaN (Nora exclue)\n",
    "- **Condition booléenne** `df[\"Âge\"] > 25` appliquée efficacement\n",
    "- **60% de l'échantillon** correspond au critère d'âge"
   ]
  },
  {
   "cell_type": "code",
   "execution_count": 45,
   "id": "f18bda8d",
   "metadata": {},
   "outputs": [
    {
     "name": "stdout",
     "output_type": "stream",
     "text": [
      "\n",
      "Les personnes de Casablanca:\n",
      "     Nom       Ville\n",
      "0  Amine  Casablanca\n",
      "3  Salma  Casablanca\n"
     ]
    }
   ],
   "source": [
    "#Afficher les nom et la ville des personnes de casa \n",
    "print(\"\\nLes personnes de Casablanca:\")\n",
    "print(df[df[\"Ville\"] == \"Casablanca\"][[\"Nom\", \"Ville\"]])"
   ]
  },
  {
   "cell_type": "markdown",
   "id": "52de4fcf",
   "metadata": {},
   "source": [
    "###  Interprétation du filtrage par ville :\n",
    "- **2 résidents** de Casablanca identifiés\n",
    "- **Sélection de colonnes** spécifiques `[[\"Nom\", \"Ville\"]]`\n",
    "- **Filtrage et projection** combinés en une seule opération\n",
    "- **Casablanca** représente 40% de notre échantillon"
   ]
  },
  {
   "cell_type": "markdown",
   "id": "954fa064",
   "metadata": {},
   "source": [
    "# Challenge 3 : Ajout et modification de colonnes"
   ]
  },
  {
   "cell_type": "code",
   "execution_count": 47,
   "id": "9328ee84",
   "metadata": {},
   "outputs": [
    {
     "name": "stdout",
     "output_type": "stream",
     "text": [
      "       Nom   Âge       Ville  date de naissance\n",
      "0    Amine  28.0  Casablanca             1997.0\n",
      "1     Lina  22.0       Rabat             2003.0\n",
      "2  Youssef  35.0         Fès             1990.0\n",
      "3    Salma  30.0  Casablanca             1995.0\n",
      "4     Nora   NaN      Tanger                NaN\n"
     ]
    }
   ],
   "source": [
    "#Ajouter une colonne \"date de naissance\" avec la valeur \"Maroc\" pour toutes les lignes\n",
    "df[\"date de naissance\"] = 2025 - df[\"Âge\"]\n",
    "print(df)"
   ]
  },
  {
   "cell_type": "markdown",
   "id": "fcfc8e9c",
   "metadata": {},
   "source": [
    "###  Interprétation de l'ajout de colonne :\n",
    "- **Nouvelle colonne** \"date de naissance\" créée automatiquement\n",
    "- **Calcul vectorisé** : 2025 - Âge pour chaque ligne\n",
    "- **Propagation des NaN** : Nora garde NaN car âge inconnu\n",
    "- **Opération arithmétique** appliquée à toute la colonne d'un coup"
   ]
  },
  {
   "cell_type": "code",
   "execution_count": null,
   "id": "c3d29e11",
   "metadata": {},
   "outputs": [
    {
     "name": "stdout",
     "output_type": "stream",
     "text": [
      "       Nom   Âge       Ville  date de naissance\n",
      "0    AMINE  28.0  Casablanca             1997.0\n",
      "1     LINA  22.0       Rabat             2003.0\n",
      "2  YOUSSEF  35.0         Fès             1990.0\n",
      "3    SALMA  30.0  Casablanca             1995.0\n",
      "4     NORA   NaN      Tanger                NaN\n"
     ]
    }
   ],
   "source": [
    "#Modifier les nom majuscule \n",
    "df[\"Nom\"] = df[\"Nom\"].str.upper()\n",
    "print(df)"
   ]
  },
  {
   "cell_type": "markdown",
   "id": "7c96f067",
   "metadata": {},
   "source": [
    "###  Interprétation de la transformation en majuscules :\n",
    "- **Méthode `.str.upper()`** appliquée à toute la colonne\n",
    "- **Transformation in-place** en réassignant la colonne\n",
    "- **Uniformisation** des noms pour la cohérence des données\n",
    "- **Manipulation de chaînes** vectorisée et efficace"
   ]
  },
  {
   "cell_type": "code",
   "execution_count": 48,
   "id": "b30c656d",
   "metadata": {},
   "outputs": [
    {
     "name": "stdout",
     "output_type": "stream",
     "text": [
      "\n",
      "DataFrame après renommage de la colonne 'Ville' en 'Localisation':\n",
      "       Nom   Âge Localisation  date de naissance\n",
      "0    Amine  28.0   Casablanca             1997.0\n",
      "1     Lina  22.0        Rabat             2003.0\n",
      "2  Youssef  35.0          Fès             1990.0\n",
      "3    Salma  30.0   Casablanca             1995.0\n",
      "4     Nora   NaN       Tanger                NaN\n"
     ]
    }
   ],
   "source": [
    "# renome une colonne \n",
    "df.rename(columns={\"Ville\": \"Localisation\"}, inplace=True)\n",
    "print(\"\\nDataFrame après renommage de la colonne 'Ville' en 'Localisation':\")\n",
    "print(df)"
   ]
  },
  {
   "cell_type": "markdown",
   "id": "f07e9e9d",
   "metadata": {},
   "source": [
    "###  Interprétation du renommage de colonne :\n",
    "- **Méthode `rename()`** avec dictionnaire de correspondance\n",
    "- **Parameter `inplace=True`** modifie directement le DataFrame\n",
    "- **Structure preservée** : même données, nouveau nom de colonne\n",
    "- **Amélioration sémantique** : \"Localisation\" plus précis que \"Ville\""
   ]
  },
  {
   "cell_type": "markdown",
   "id": "4123e6c8",
   "metadata": {},
   "source": [
    "# Challenge 4 : Gestion des valeurs manquantes"
   ]
  },
  {
   "cell_type": "code",
   "execution_count": 52,
   "id": "15577a96",
   "metadata": {},
   "outputs": [
    {
     "name": "stdout",
     "output_type": "stream",
     "text": [
      "\n",
      "DataFrame avant remplacement des valeurs manquantes:\n",
      "       Nom   Âge Localisation  date de naissance\n",
      "0    Amine  28.0   Casablanca             1997.0\n",
      "1     Lina  22.0        Rabat             2003.0\n",
      "2  Youssef   NaN          Fès             1990.0\n",
      "3    Salma  30.0   Casablanca             1995.0\n",
      "4     Nora   NaN       Tanger                NaN\n"
     ]
    }
   ],
   "source": [
    "# remplacer lesvaleurs d age manquantes manuellemnt\n",
    "print(\"\\nDataFrame avant remplacement des valeurs manquantes:\")\n",
    "df.loc[2, \"Âge\"] = np.nan\n",
    "print(df)"
   ]
  },
  {
   "cell_type": "markdown",
   "id": "715bc8d9",
   "metadata": {},
   "source": [
    "###  Interprétation de l'introduction de valeur manquante :\n",
    "- **Méthode `.loc[ligne, colonne]`** pour accès précis à une cellule\n",
    "- **Valeur `np.nan`** assignée manuellement à Youssef (ligne 2)\n",
    "- **2 valeurs manquantes** maintenant : Nora et Youssef\n",
    "- **Simulation réaliste** d'un problème de données manquantes"
   ]
  },
  {
   "cell_type": "code",
   "execution_count": 50,
   "id": "a6bff473",
   "metadata": {},
   "outputs": [
    {
     "name": "stdout",
     "output_type": "stream",
     "text": [
      "\n",
      "Lignes contenant des valeurs manquantes:\n",
      "       Nom  Âge Localisation  date de naissance\n",
      "2  Youssef  NaN          Fès             1990.0\n",
      "4     Nora  NaN       Tanger                NaN\n"
     ]
    }
   ],
   "source": [
    "#Affiche les lignes contenant des valeurs manquantes avec isnull().\n",
    "print(\"\\nLignes contenant des valeurs manquantes:\")\n",
    "print(df[df.isnull().any(axis=1)])"
   ]
  },
  {
   "cell_type": "markdown",
   "id": "21be8779",
   "metadata": {},
   "source": [
    "###  Interprétation de la détection des valeurs manquantes :\n",
    "- **Méthode `.isnull()`** détecte toutes les valeurs NaN\n",
    "- **`.any(axis=1)`** vérifie s'il y a au moins un NaN par ligne\n",
    "- **2 lignes identifiées** : Youssef (index 2) et Nora (index 4)\n",
    "- **Filtrage automatique** des lignes problématiques pour analyse"
   ]
  },
  {
   "cell_type": "code",
   "execution_count": 57,
   "id": "dd1be4a9",
   "metadata": {},
   "outputs": [
    {
     "name": "stdout",
     "output_type": "stream",
     "text": [
      "\n",
      "DataFrame après remplacement des valeurs manquantes:\n",
      "       Nom        Âge Localisation\n",
      "3    Salma  30.000000   Casablanca\n",
      "2  Youssef  26.666667          Fès\n",
      "4     Nora  26.666667       Tanger\n",
      "1     Lina  22.000000        Rabat\n"
     ]
    }
   ],
   "source": [
    "# Remplace les valeurs manquantes par la moyenne des âges avec fillna().\n",
    "df[\"Âge\"]=df[\"Âge\"].fillna(df[\"Âge\"].mean())\n",
    "print(\"\\nDataFrame après remplacement des valeurs manquantes:\")\n",
    "print(df)"
   ]
  },
  {
   "cell_type": "markdown",
   "id": "46eefde5",
   "metadata": {},
   "source": [
    "###  Interprétation du remplacement par la moyenne :\n",
    "- **Méthode `.fillna()`** remplace les NaN par une valeur spécifiée\n",
    "- **Calcul automatique** de la moyenne sur les valeurs non-NaN\n",
    "- **Imputation réussie** : 26.67 ans pour Youssef et Nora\n",
    "- **Dataset complet** : plus de valeurs manquantes, prêt pour l'analyse\n",
    "- **Stratégie conservatrice** : la moyenne préserve la distribution"
   ]
  },
  {
   "cell_type": "markdown",
   "id": "bd2c0a1c",
   "metadata": {},
   "source": [
    "# Challenge 5 : Tri et suppression"
   ]
  },
  {
   "cell_type": "code",
   "execution_count": 54,
   "id": "dc200208",
   "metadata": {},
   "outputs": [
    {
     "name": "stdout",
     "output_type": "stream",
     "text": [
      "\n",
      "DataFrame trié par âge décroissant:\n",
      "       Nom        Âge Localisation  date de naissance\n",
      "3    Salma  30.000000   Casablanca             1995.0\n",
      "0    Amine  28.000000   Casablanca             1997.0\n",
      "2  Youssef  26.666667          Fès             1990.0\n",
      "4     Nora  26.666667       Tanger                NaN\n",
      "1     Lina  22.000000        Rabat             2003.0\n"
     ]
    }
   ],
   "source": [
    "#Trie les lignes par âge décroissant avec sort_values(by='Âge', ascending=False)\n",
    "df.sort_values(by='Âge', ascending=False, inplace=True)\n",
    "print(\"\\nDataFrame trié par âge décroissant:\")\n",
    "print(df)"
   ]
  },
  {
   "cell_type": "markdown",
   "id": "a8401ddc",
   "metadata": {},
   "source": [
    "###  Interprétation du tri par âge :\n",
    "- **Méthode `.sort_values()`** trie selon une colonne spécifiée\n",
    "- **`ascending=False`** pour ordre décroissant (plus âgé au plus jeune)\n",
    "- **Index réorganisés** : l'ordre original des lignes a changé\n",
    "- **Nouveau classement** : Salma (30) → Amine (28) → Youssef et Nora (26.67)\n",
    "- **Modification in-place** avec `inplace=True`"
   ]
  },
  {
   "cell_type": "code",
   "execution_count": 55,
   "id": "afe6ab6e",
   "metadata": {},
   "outputs": [
    {
     "name": "stdout",
     "output_type": "stream",
     "text": [
      "\n",
      "DataFrame après suppression de la colonne 'date de naissance':\n",
      "       Nom        Âge Localisation\n",
      "3    Salma  30.000000   Casablanca\n",
      "0    Amine  28.000000   Casablanca\n",
      "2  Youssef  26.666667          Fès\n",
      "4     Nora  26.666667       Tanger\n",
      "1     Lina  22.000000        Rabat\n"
     ]
    }
   ],
   "source": [
    "#Supprime la colonne Année de Naissance avec drop().\n",
    "df.drop(columns=[\"date de naissance\"], inplace=True)\n",
    "print(\"\\nDataFrame après suppression de la colonne 'date de naissance':\")\n",
    "print(df)"
   ]
  },
  {
   "cell_type": "markdown",
   "id": "09d06ccb",
   "metadata": {},
   "source": [
    "###  Interprétation de la suppression de colonne :\n",
    "- **Méthode `.drop(columns=[])`** supprime des colonnes entières\n",
    "- **Suppression définitive** de \"date de naissance\"\n",
    "- **DataFrame réduit** : retour à 3 colonnes (Nom, Âge, Localisation)\n",
    "- **Nettoyage des données** : élimination d'informations redondantes\n",
    "- **Optimisation mémoire** : moins de colonnes = moins d'espace"
   ]
  },
  {
   "cell_type": "code",
   "execution_count": 56,
   "id": "464d857b",
   "metadata": {},
   "outputs": [
    {
     "name": "stdout",
     "output_type": "stream",
     "text": [
      "\n",
      "DataFrame après suppression de la première ligne:\n",
      "       Nom        Âge Localisation\n",
      "3    Salma  30.000000   Casablanca\n",
      "2  Youssef  26.666667          Fès\n",
      "4     Nora  26.666667       Tanger\n",
      "1     Lina  22.000000        Rabat\n"
     ]
    }
   ],
   "source": [
    "#Supprime la première ligne du DataFrame avec drop(index=0).\n",
    "df.drop(index=0, inplace=True)\n",
    "print(\"\\nDataFrame après suppression de la première ligne:\")\n",
    "print(df)"
   ]
  },
  {
   "cell_type": "markdown",
   "id": "b756326c",
   "metadata": {},
   "source": [
    "###  Interprétation de la suppression de ligne :\n",
    "- **Méthode `.drop(index=...)`** supprime des lignes spécifiques\n",
    "- **Attention aux index** : après tri, l'index 0 ne correspond plus à la première ligne logique\n",
    "- **Index 0 supprimé** : c'était Amine (28 ans) après le tri\n",
    "- **DataFrame final** : 4 lignes restantes sur 5 initiales\n",
    "- **Importance de l'ordre** : le tri influence quelle ligne est \"première\"\n",
    "\n",
    "###  **Résumé final :**\n",
    "- **Dataset nettoyé** : pas de valeurs manquantes\n",
    "- **Structure optimisée** : 4 lignes × 3 colonnes\n",
    "- **Données triées** : par âge décroissant\n",
    "- **Noms uniformisés** : en majuscules"
   ]
  }
 ],
 "metadata": {
  "kernelspec": {
   "display_name": "Python 3",
   "language": "python",
   "name": "python3"
  },
  "language_info": {
   "codemirror_mode": {
    "name": "ipython",
    "version": 3
   },
   "file_extension": ".py",
   "mimetype": "text/x-python",
   "name": "python",
   "nbconvert_exporter": "python",
   "pygments_lexer": "ipython3",
   "version": "3.13.3"
  }
 },
 "nbformat": 4,
 "nbformat_minor": 5
}
