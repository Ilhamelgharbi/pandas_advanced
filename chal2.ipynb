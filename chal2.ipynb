{
 "cells": [
  {
   "cell_type": "markdown",
   "id": "ec4ba570",
   "metadata": {},
   "source": [
    "# Exercice : Analyse des employés d'une entreprise tech"
   ]
  },
  {
   "cell_type": "markdown",
   "id": "28872bea",
   "metadata": {},
   "source": [
    "## Partie 1 : Chargement et exploration"
   ]
  },
  {
   "cell_type": "code",
   "execution_count": 17,
   "id": "6e428e5c",
   "metadata": {},
   "outputs": [
    {
     "name": "stdout",
     "output_type": "stream",
     "text": [
      "Les 5 premières lignes sont :\n",
      "   Unnamed: 0  ID     Name   Age   Salary Department  Years_Experience Remote\n",
      "0           0   1  Othmane   NaN      NaN         IT                 0    Yes\n",
      "1           1   2    Ikram  22.0      NaN         HR                23    Yes\n",
      "2           2   3      Bob   NaN      NaN         HR                26    Yes\n",
      "3           3   4    Zineb  59.0  73665.0         HR                 3     No\n",
      "4           4   5    David  57.0  59325.0    Finance                33     No\n",
      "\n"
     ]
    }
   ],
   "source": [
    "import pandas as pd\n",
    "import numpy as np\n",
    "\n",
    "# 1. Charger employees2.csv\n",
    "df = pd.read_csv(\"employees2.csv\")\n",
    "# 2. Afficher les 5 premières lignes\n",
    "print(\"Les 5 premières lignes sont :\")\n",
    "print(df.head())\n",
    "print()"
   ]
  },
  {
   "cell_type": "markdown",
   "id": "6cd0819c",
   "metadata": {},
   "source": [
    "### Interprétation des premières lignes :\n",
    "- Le dataset contient des informations sur les employés\n",
    "- Colonnes principales : ID, Name, Age, Salary, Department, Years_Experience, Remote\n",
    "- Présence de valeurs manquantes (NaN) dans certaines colonnes\n",
    "- Types de données mixtes : numériques et textuelles"
   ]
  },
  {
   "cell_type": "code",
   "execution_count": 18,
   "id": "78007830",
   "metadata": {},
   "outputs": [
    {
     "name": "stdout",
     "output_type": "stream",
     "text": [
      "Les types de données sont :\n",
      "Unnamed: 0            int64\n",
      "ID                    int64\n",
      "Name                 object\n",
      "Age                 float64\n",
      "Salary              float64\n",
      "Department           object\n",
      "Years_Experience      int64\n",
      "Remote               object\n",
      "dtype: object\n",
      "\n"
     ]
    }
   ],
   "source": [
    "# 3. Vérifier types de données\n",
    "print(\"Les types de données sont :\")\n",
    "print(df.dtypes)\n",
    "print()"
   ]
  },
  {
   "cell_type": "code",
   "execution_count": 19,
   "id": "54b8db14",
   "metadata": {},
   "outputs": [
    {
     "name": "stdout",
     "output_type": "stream",
     "text": [
      "Les valeurs manquantes sont :\n",
      "Unnamed: 0           0\n",
      "ID                   0\n",
      "Name                 0\n",
      "Age                 49\n",
      "Salary              44\n",
      "Department           0\n",
      "Years_Experience     0\n",
      "Remote               0\n",
      "dtype: int64\n",
      "\n"
     ]
    }
   ],
   "source": [
    "# 4. Identifier valeurs manquantes\n",
    "print(\"Les valeurs manquantes sont :\")\n",
    "print(df.isnull().sum())\n",
    "print()"
   ]
  },
  {
   "cell_type": "markdown",
   "id": "e8da668d",
   "metadata": {},
   "source": [
    "### Interprétation de l'exploration initiale :\n",
    "- Types de données identifiés : float64 pour les nombres, object pour le texte\n",
    "- Valeurs manquantes détectées dans les colonnes Age et Salary\n",
    "- Nécessité de nettoyer les données avant l'analyse\n",
    "- Structure du dataset adaptée pour l'analyse d'employés"
   ]
  },
  {
   "cell_type": "markdown",
   "id": "3f57df60",
   "metadata": {},
   "source": [
    "## Partie 2 : Nettoyage des données"
   ]
  },
  {
   "cell_type": "code",
   "execution_count": 20,
   "id": "3409f851",
   "metadata": {},
   "outputs": [
    {
     "name": "stdout",
     "output_type": "stream",
     "text": [
      "Après remplacement des âges manquants par la médiane :\n",
      "0     45.0\n",
      "1     22.0\n",
      "2     45.0\n",
      "3     59.0\n",
      "4     57.0\n",
      "      ... \n",
      "95    45.0\n",
      "96    45.0\n",
      "97    45.0\n",
      "98    42.0\n",
      "99    32.0\n",
      "Name: Age, Length: 100, dtype: float64\n",
      "\n"
     ]
    }
   ],
   "source": [
    "# 5. Remplacer Age manquant par médiane\n",
    "df['Age'] = df['Age'].fillna(df['Age'].median())\n",
    "print(\"Après remplacement des âges manquants par la médiane :\")\n",
    "print(df['Age'])\n",
    "print()"
   ]
  },
  {
   "cell_type": "code",
   "execution_count": 21,
   "id": "3f0258cf",
   "metadata": {},
   "outputs": [
    {
     "name": "stdout",
     "output_type": "stream",
     "text": [
      "Après remplacement des salaires manquants par la moyenne par département :\n",
      "0     69930.000000\n",
      "1     61659.733333\n",
      "2     61659.733333\n",
      "3     73665.000000\n",
      "4     59325.000000\n",
      "          ...     \n",
      "95    82670.000000\n",
      "96    59838.000000\n",
      "97    45811.000000\n",
      "98    73800.000000\n",
      "99    70395.153846\n",
      "Name: Salary, Length: 100, dtype: float64\n",
      "\n"
     ]
    }
   ],
   "source": [
    "# 6. Remplacer Salaire manquant par moyenne par département\n",
    "df['Salary'] = df['Salary'].fillna(df.groupby('Department')['Salary'].transform('mean'))\n",
    "print(\"Après remplacement des salaires manquants par la moyenne par département :\")\n",
    "print(df['Salary'])\n",
    "print()"
   ]
  },
  {
   "cell_type": "code",
   "execution_count": 22,
   "id": "5979d90f",
   "metadata": {},
   "outputs": [
    {
     "name": "stdout",
     "output_type": "stream",
     "text": [
      "Types après conversion :\n",
      "Unnamed: 0            int64\n",
      "ID                    int64\n",
      "Name                 object\n",
      "Age                 float64\n",
      "Salary              float64\n",
      "Department           object\n",
      "Years_Experience      int64\n",
      "Remote               object\n",
      "dtype: object\n",
      "\n"
     ]
    }
   ],
   "source": [
    "# 7. Convertir colonnes numériques\n",
    "numeric_cols = ['Age', 'Salary', 'Years_Experience']\n",
    "df[numeric_cols] = df[numeric_cols].apply(pd.to_numeric)\n",
    "\n",
    "print(\"Types après conversion :\")\n",
    "print(df.dtypes)\n",
    "print()"
   ]
  },
  {
   "cell_type": "markdown",
   "id": "51f17a04",
   "metadata": {},
   "source": [
    "### Interprétation du nettoyage des données :\n",
    "- Les âges manquants ont été remplacés par la médiane (45 ans) pour éviter l'impact des valeurs aberrantes\n",
    "- Les salaires manquants ont été remplacés par la moyenne de chaque département pour une imputation plus précise\n",
    "- La conversion des types de données garantit la cohérence pour les calculs numériques\n",
    "- Le dataset est maintenant prêt pour l'analyse statistique"
   ]
  },
  {
   "cell_type": "code",
   "execution_count": 23,
   "id": "c7841d36",
   "metadata": {},
   "outputs": [
    {
     "name": "stdout",
     "output_type": "stream",
     "text": [
      "Valeurs Remote après remplacement :\n",
      "Remote\n",
      "Oui    55\n",
      "Non    45\n",
      "Name: count, dtype: int64\n",
      "\n"
     ]
    }
   ],
   "source": [
    "# 8. Remplacer Yes/No par Oui/Non dans Remote\n",
    "df['Remote'] = df['Remote'].replace({'Yes': 'Oui', 'No': 'Non'})\n",
    "\n",
    "print(\"Valeurs Remote après remplacement :\")\n",
    "print(df['Remote'].value_counts())\n",
    "print()"
   ]
  },
  {
   "cell_type": "code",
   "execution_count": 25,
   "id": "ef635d36",
   "metadata": {},
   "outputs": [
    {
     "name": "stdout",
     "output_type": "stream",
     "text": [
      "Catégories d'ancienneté :\n",
      "Ancienneté_Catégorie\n",
      "Expert           58\n",
      "Senior           24\n",
      "Intermédiaire    13\n",
      "Junior            5\n",
      "Name: count, dtype: int64\n"
     ]
    }
   ],
   "source": [
    "# 9. Créer colonne Ancienneté_Catégorie (Junior/Intermédiaire/Senior/Expert)\n",
    "def classer_anciennete(x):\n",
    "    if x < 3:\n",
    "        return 'Junior'\n",
    "    elif 3 <= x <= 7:\n",
    "        return 'Intermédiaire'\n",
    "    elif 8 <= x <= 15:\n",
    "        return 'Senior'\n",
    "    else:\n",
    "        return 'Expert'\n",
    "\n",
    "df['Ancienneté_Catégorie'] = df['Years_Experience'].apply(classer_anciennete)\n",
    "print(\"Catégories d'ancienneté :\")\n",
    "print(df['Ancienneté_Catégorie'].value_counts())"
   ]
  },
  {
   "cell_type": "markdown",
   "id": "6675291e",
   "metadata": {},
   "source": [
    "### Interprétation des transformations :\n",
    "- La colonne Remote a été traduite en français pour une meilleure lisibilité\n",
    "- 55% des employés travaillent en télétravail contre 45% en présentiel\n",
    "- La catégorisation par ancienneté révèle une majorité d'experts (58%)\n",
    "- Distribution : Expert > Senior > Intermédiaire > Junior, indiquant une force de travail expérimentée"
   ]
  },
  {
   "cell_type": "markdown",
   "id": "b7a002f7",
   "metadata": {},
   "source": [
    "## Partie 3 : Analyses statistiques"
   ]
  },
  {
   "cell_type": "code",
   "execution_count": 26,
   "id": "6c728d50",
   "metadata": {},
   "outputs": [
    {
     "name": "stdout",
     "output_type": "stream",
     "text": [
      "Salaire moyen global : 64504.14 €\n"
     ]
    }
   ],
   "source": [
    "# 10. Salaire moyen global\n",
    "salaire_moyen_global = df['Salary'].mean()\n",
    "print(f\"Salaire moyen global : {salaire_moyen_global:.2f} €\")"
   ]
  },
  {
   "cell_type": "code",
   "execution_count": 27,
   "id": "5bf9801e",
   "metadata": {},
   "outputs": [
    {
     "name": "stdout",
     "output_type": "stream",
     "text": [
      "Employé avec le salaire le plus élevé :\n",
      "Nom : Jalil\n",
      "Salaire : 84685.00 €\n",
      "Département : Marketing\n",
      "Ancienneté : 28 ans\n"
     ]
    }
   ],
   "source": [
    "# 11. Employé avec salaire le plus élevé\n",
    "employe_max_salaire = df.loc[df['Salary'].idxmax()]\n",
    "print(\"Employé avec le salaire le plus élevé :\")\n",
    "print(f\"Nom : {employe_max_salaire['Name']}\")\n",
    "print(f\"Salaire : {employe_max_salaire['Salary']:.2f} €\")\n",
    "print(f\"Département : {employe_max_salaire['Department']}\")\n",
    "print(f\"Ancienneté : {employe_max_salaire['Years_Experience']} ans\")"
   ]
  },
  {
   "cell_type": "code",
   "execution_count": null,
   "id": "9d91fa43",
   "metadata": {},
   "outputs": [
    {
     "name": "stdout",
     "output_type": "stream",
     "text": [
      "Salaire moyen par département :\n",
      "Marketing: 70395.15 €\n",
      "IT: 69930.00 €\n",
      "Logistics: 64544.75 €\n",
      "HR: 61659.73 €\n",
      "Finance: 57836.58 €\n",
      "\n"
     ]
    }
   ],
   "source": [
    "# 12. Salaire moyen par département\n",
    "salaire_par_dept = df.groupby('Department')['Salary'].mean().sort_values(ascending=False)\n",
    "print(\"Salaire moyen par département :\")\n",
    "for dept, salaire in salaire_par_dept.items():\n",
    "    print(f\"{dept}: {salaire:.2f} €\")"
   ]
  },
  {
   "cell_type": "code",
   "execution_count": null,
   "id": "47babb75",
   "metadata": {},
   "outputs": [
    {
     "name": "stdout",
     "output_type": "stream",
     "text": [
      "Statistiques salariales par groupe d'ancienneté :\n",
      "                          mean    median\n",
      "Ancienneté_Catégorie                    \n",
      "Expert                63948.98  62747.87\n",
      "Intermédiaire         66929.63  64544.75\n",
      "Junior                61558.03  69930.00\n",
      "Senior                65145.75  65650.38\n",
      "\n"
     ]
    }
   ],
   "source": [
    "# 13. Moyenne/médiane par groupe d'ancienneté\n",
    "stats_anciennete = df.groupby('Ancienneté_Catégorie')['Salary'].agg(['mean', 'median']).round(2)\n",
    "print(\"Statistiques salariales par groupe d'ancienneté :\")\n",
    "print(stats_anciennete)"
   ]
  },
  {
   "cell_type": "code",
   "execution_count": null,
   "id": "0c887a8a",
   "metadata": {},
   "outputs": [
    {
     "name": "stdout",
     "output_type": "stream",
     "text": [
      "Répartition télétravail/présentiel par département :\n",
      "Remote      Non  Oui\n",
      "Department          \n",
      "Finance      13    7\n",
      "HR           15   13\n",
      "IT            3    9\n",
      "Logistics     7    8\n",
      "Marketing     7   18\n",
      "\n"
     ]
    }
   ],
   "source": [
    "# 14. Nombre employés en télétravail par département\n",
    "remote_par_dept = df.groupby(['Department', 'Remote']).size().unstack(fill_value=0)\n",
    "print(\"Répartition télétravail/présentiel par département :\")\n",
    "print(remote_par_dept)"
   ]
  },
  {
   "cell_type": "markdown",
   "id": "a8905dda",
   "metadata": {},
   "source": [
    "### Interprétation des analyses statistiques :\n",
    "- Salaire moyen global : 64,504€, indiquant un niveau de rémunération correct\n",
    "- L'employé le mieux payé est Jalil (Marketing, 84,685€, 28 ans d'expérience)\n",
    "- Hiérarchie salariale : Marketing > IT > Logistics > HR > Finance\n",
    "- Pas de corrélation claire entre ancienneté et salaire (les Intermédiaires gagnent plus que les Experts)\n",
    "- Le télétravail est plus répandu en Marketing (72%) et IT (75%), moins en Finance (35%)"
   ]
  },
  {
   "cell_type": "markdown",
   "id": "50d7e61a",
   "metadata": {},
   "source": [
    "## Partie 4 : Tableaux croisés dynamiques"
   ]
  },
  {
   "cell_type": "code",
   "execution_count": null,
   "id": "50331ab4",
   "metadata": {},
   "outputs": [
    {
     "name": "stdout",
     "output_type": "stream",
     "text": [
      "Salaire moyen par département et mode de travail :\n",
      "Remote           Non       Oui\n",
      "Department                    \n",
      "Finance     60964.76  52027.11\n",
      "HR          62817.61  60323.72\n",
      "IT          65695.00  71341.67\n",
      "Logistics   65080.75  64075.75\n",
      "Marketing   69812.54  70621.73\n",
      "\n"
     ]
    }
   ],
   "source": [
    "# 15. Salaire moyen par département et télétravail\n",
    "pivot_salaire = df.pivot_table(values='Salary', index='Department', columns='Remote', aggfunc='mean')\n",
    "print(\"Salaire moyen par département et mode de travail :\")\n",
    "print(pivot_salaire.round(2))"
   ]
  },
  {
   "cell_type": "code",
   "execution_count": null,
   "id": "d8e4b3f2",
   "metadata": {},
   "outputs": [
    {
     "name": "stdout",
     "output_type": "stream",
     "text": [
      "Années d'expérience moyennes par département et tranche d'âge :\n",
      "Tranche_Age  20-30  30-40  40-50  50-60\n",
      "Department                             \n",
      "Finance        NaN  28.00  16.57  19.50\n",
      "HR           22.25  27.00  14.25  21.71\n",
      "IT           13.00    NaN  17.29  20.00\n",
      "Logistics    24.67   9.67  15.67  20.00\n",
      "Marketing    18.00  11.50  21.93  19.86\n",
      "\n"
     ]
    },
    {
     "name": "stderr",
     "output_type": "stream",
     "text": [
      "C:\\Users\\user\\AppData\\Local\\Temp\\ipykernel_12336\\1044138405.py:5: FutureWarning: The default value of observed=False is deprecated and will change to observed=True in a future version of pandas. Specify observed=False to silence this warning and retain the current behavior\n",
      "  pivot_experience = df.pivot_table(values='Years_Experience', index='Department', columns='Tranche_Age', aggfunc='mean')\n"
     ]
    }
   ],
   "source": [
    "# 16. Années d'expérience par âge et département\n",
    "# Créer des tranches d'âge pour une meilleure lisibilité\n",
    "df['Tranche_Age'] = pd.cut(df['Age'], bins=[20, 30, 40, 50, 60, 70], labels=['20-30', '30-40', '40-50', '50-60', '60-70'])\n",
    "\n",
    "pivot_experience = df.pivot_table(values='Years_Experience', index='Department', columns='Tranche_Age', aggfunc='mean')\n",
    "print(\"Années d'expérience moyennes par département et tranche d'âge :\")\n",
    "print(pivot_experience.round(2))"
   ]
  },
  {
   "cell_type": "markdown",
   "id": "8b75ac9c",
   "metadata": {},
   "source": [
    "### Interprétation des tableaux croisés dynamiques :\n",
    "- Impact du télétravail sur les salaires : positif en IT et Marketing, négatif en Finance et HR\n",
    "- L'IT en télétravail a les salaires les plus élevés (71,342€ vs 65,695€ en présentiel)\n",
    "- Les tranches d'âge révèlent des patterns d'expérience variables selon les départements\n",
    "- Finance et HR : pic d'expérience chez les 30-40 ans, suggérant un recrutement d'experts\n",
    "- Marketing : expérience plus élevée chez les 40-50 ans, indiquant une progression de carrière classique"
   ]
  },
  {
   "cell_type": "markdown",
   "id": "527707d3",
   "metadata": {},
   "source": [
    "## Partie 5 : Calculs avancés NumPy"
   ]
  },
  {
   "cell_type": "code",
   "execution_count": 22,
   "id": "afb34377",
   "metadata": {},
   "outputs": [
    {
     "name": "stdout",
     "output_type": "stream",
     "text": [
      "Répartition des performances :\n",
      "Performance\n",
      "Bon          56\n",
      "Moyen        23\n",
      "Excellent    21\n",
      "Name: count, dtype: int64\n",
      "\n"
     ]
    }
   ],
   "source": [
    "# 17. Colonne Performance avec np.where()\n",
    "# Performance basée sur salaire et expérience\n",
    "salaire_median = df['Salary'].median()\n",
    "experience_mediane = df['Years_Experience'].median()\n",
    "\n",
    "df['Performance'] = np.where(\n",
    "    (df['Salary'] > salaire_median) & (df['Years_Experience'] > experience_mediane), 'Excellent',\n",
    "    np.where(\n",
    "        (df['Salary'] > salaire_median) | (df['Years_Experience'] > experience_mediane), 'Bon', 'Moyen'\n",
    "    )\n",
    ")\n",
    "\n",
    "print(\"Répartition des performances :\")\n",
    "print(df['Performance'].value_counts())\n",
    "print()"
   ]
  },
  {
   "cell_type": "code",
   "execution_count": 23,
   "id": "019f93e4",
   "metadata": {},
   "outputs": [
    {
     "name": "stdout",
     "output_type": "stream",
     "text": [
      "Classification âge/ancienneté :\n",
      "Profil_Age_Experience\n",
      "Senior Expert      58\n",
      "Expérimenté        40\n",
      "Adulte Confirmé     2\n",
      "Name: count, dtype: int64\n",
      "\n"
     ]
    }
   ],
   "source": [
    "# 18. Classification âge/ancienneté avec np.select()\n",
    "conditions = [\n",
    "    (df['Age'] < 30) & (df['Years_Experience'] < 5),\n",
    "    (df['Age'] < 40) & (df['Years_Experience'] < 10),\n",
    "    (df['Age'] < 50) & (df['Years_Experience'] < 20),\n",
    "    (df['Age'] >= 50) | (df['Years_Experience'] >= 20)\n",
    "]\n",
    "\n",
    "choices = ['Jeune Débutant', 'Adulte Confirmé', 'Expérimenté', 'Senior Expert']\n",
    "\n",
    "df['Profil_Age_Experience'] = np.select(conditions, choices, default='Non classifié')\n",
    "\n",
    "print(\"Classification âge/ancienneté :\")\n",
    "print(df['Profil_Age_Experience'].value_counts())\n",
    "print()"
   ]
  },
  {
   "cell_type": "code",
   "execution_count": 24,
   "id": "7abd569d",
   "metadata": {},
   "outputs": [
    {
     "name": "stdout",
     "output_type": "stream",
     "text": [
      "Statistiques des différences salariales par rapport à la moyenne départementale :\n",
      "Moyenne des différences : 0.00 €\n",
      "Écart-type : 9086.27 €\n",
      "Différence maximale (positive) : 26785.42 €\n",
      "Différence maximale (négative) : -24554.15 €\n",
      "\n"
     ]
    }
   ],
   "source": [
    "# 19. Différence salaire vs moyenne département\n",
    "df['Salaire_Moyen_Dept'] = df.groupby('Department')['Salary'].transform('mean')\n",
    "df['Diff_Salaire_Dept'] = df['Salary'] - df['Salaire_Moyen_Dept']\n",
    "\n",
    "print(\"Statistiques des différences salariales par rapport à la moyenne départementale :\")\n",
    "print(f\"Moyenne des différences : {df['Diff_Salaire_Dept'].mean():.2f} €\")\n",
    "print(f\"Écart-type : {df['Diff_Salaire_Dept'].std():.2f} €\")\n",
    "print(f\"Différence maximale (positive) : {df['Diff_Salaire_Dept'].max():.2f} €\")\n",
    "print(f\"Différence maximale (négative) : {df['Diff_Salaire_Dept'].min():.2f} €\")\n",
    "print()"
   ]
  },
  {
   "cell_type": "markdown",
   "id": "8abeb3ac",
   "metadata": {},
   "source": [
    "### Interprétation des calculs avancés NumPy :\n",
    "- Le score de performance révèle une majorité d'employés \"Bon\" (56%), suivis de \"Moyen\" (23%) et \"Excellent\" (21%)\n",
    "- La classification âge/expérience montre une prédominance de \"Senior Expert\" (58%) et \"Expérimenté\" (40%)\n",
    "- Les différences salariales par département montrent une dispersion significative (écart-type de 9,086€)\n",
    "- L'écart maximal positif est de 26,785€ et négatif de -24,555€, indiquant des inégalités importantes au sein des départements"
   ]
  },
  {
   "cell_type": "markdown",
   "id": "ba05d221",
   "metadata": {},
   "source": [
    "## Partie 6 : Visualisation (Bonus)"
   ]
  },
  {
   "cell_type": "code",
   "execution_count": 5,
   "id": "bd7f7ee9",
   "metadata": {},
   "outputs": [],
   "source": [
    "# Import des librairies de visualisation\n",
    "import matplotlib.pyplot as plt\n",
    "import seaborn as sns\n",
    "\n",
    "# Configuration pour de meilleurs graphiques\n",
    "plt.style.use('default')\n",
    "sns.set_palette(\"husl\")\n",
    "plt.rcParams['figure.figsize'] = (12, 8)"
   ]
  },
  {
   "cell_type": "code",
   "execution_count": 6,
   "id": "4ae59916",
   "metadata": {},
   "outputs": [
    {
     "data": {
      "image/png": "[encoded data removed]",
      "text/plain": [
       "<Figure size 1000x600 with 1 Axes>"
      ]
     },
     "metadata": {},
     "output_type": "display_data"
    }
   ],
   "source": [
    "# 20a. Distribution des salaires\n",
    "plt.figure(figsize=(10, 6))\n",
    "plt.hist(df['Salary'], bins=20, alpha=0.7, color='skyblue', edgecolor='black')\n",
    "plt.title('Distribution des Salaires', fontsize=16, fontweight='bold')\n",
    "plt.xlabel('Salaire (€)', fontsize=12)\n",
    "plt.ylabel('Fréquence', fontsize=12)\n",
    "plt.grid(True, alpha=0.3)\n",
    "plt.axvline(df['Salary'].mean(), color='red', linestyle='--', label=f'Moyenne: {df[\"Salary\"].mean():.0f}€')\n",
    "plt.axvline(df['Salary'].median(), color='orange', linestyle='--', label=f'Médiane: {df[\"Salary\"].median():.0f}€')\n",
    "plt.legend()\n",
    "plt.tight_layout()\n",
    "plt.show()"
   ]
  },
  {
   "cell_type": "code",
   "execution_count": 7,
   "id": "2209871e",
   "metadata": {},
   "outputs": [
    {
     "data": {
      "image/png": "[encoded data removed]",
      "text/plain": [
       "<Figure size 1000x600 with 1 Axes>"
      ]
     },
     "metadata": {},
     "output_type": "display_data"
    }
   ],
   "source": [
    "# 20b. Barplot des salaires moyens par département\n",
    "plt.figure(figsize=(10, 6))\n",
    "salaire_par_dept = df.groupby('Department')['Salary'].mean().sort_values(ascending=True)\n",
    "bars = plt.barh(salaire_par_dept.index, salaire_par_dept.values, color=['#ff9999', '#66b3ff', '#99ff99', '#ffcc99', '#ff99cc'])\n",
    "\n",
    "plt.title('Salaire Moyen par Département', fontsize=16, fontweight='bold')\n",
    "plt.xlabel('Salaire Moyen (€)', fontsize=12)\n",
    "plt.ylabel('Département', fontsize=12)\n",
    "\n",
    "# Ajouter les valeurs sur les barres\n",
    "for i, bar in enumerate(bars):\n",
    "    width = bar.get_width()\n",
    "    plt.text(width + 1000, bar.get_y() + bar.get_height()/2, f'{width:.0f}€', \n",
    "             ha='left', va='center', fontweight='bold')\n",
    "\n",
    "plt.grid(True, alpha=0.3, axis='x')\n",
    "plt.tight_layout()\n",
    "plt.show()"
   ]
  },
  {
   "cell_type": "code",
   "execution_count": 13,
   "id": "c00bda52",
   "metadata": {},
   "outputs": [
    {
     "data": {
      "image/png": "[encoded data removed]",
      "text/plain": [
       "<Figure size 1200x600 with 1 Axes>"
      ]
     },
     "metadata": {},
     "output_type": "display_data"
    }
   ],
   "source": [
    "# 20c. Boxplot des salaires par catégorie d'ancienneté\n",
    "plt.figure(figsize=(12, 6))\n",
    "sns.boxplot(data=df, x='Ancienneté_Catégorie', y='Salary', \n",
    "            order=['Junior', 'Intermédiaire', 'Senior', 'Expert'])\n",
    "\n",
    "plt.title('Distribution des Salaires par Catégorie d\\'Ancienneté', fontsize=16, fontweight='bold')\n",
    "plt.xlabel('Catégorie d\\'Ancienneté', fontsize=12)\n",
    "plt.ylabel('Salaire (€)', fontsize=12)\n",
    "plt.xticks(rotation=45)\n",
    "plt.grid(True, alpha=0.3, axis='y')\n",
    "\n",
    "# Ajouter des statistiques\n",
    "for i, category in enumerate(['Junior', 'Intermédiaire', 'Senior', 'Expert']):\n",
    "    if category in df['Ancienneté_Catégorie'].values:\n",
    "        median_val = df[df['Ancienneté_Catégorie'] == category]['Salary'].median()\n",
    "        plt.text(i, median_val + 2000, f'{median_val:.0f}€', \n",
    "                ha='center', va='bottom', fontweight='bold', fontsize=10)\n",
    "\n",
    "plt.tight_layout()\n",
    "plt.show()"
   ]
  },
  {
   "cell_type": "markdown",
   "id": "5fcc68ab",
   "metadata": {},
   "source": [
    "### Interprétation des visualisations :\n",
    "- La distribution des salaires suit une forme relativement normale avec une légère asymétrie vers la droite\n",
    "- La moyenne (64,504€) et la médiane (64,442€) sont très proches, confirmant une distribution équilibrée\n",
    "- Le barplot révèle clairement la hiérarchie salariale : Marketing en tête, Finance en queue\n",
    "- Les écarts entre départements sont significatifs : 12,558€ entre Marketing et Finance\n",
    "- Le boxplot d'ancienneté montre des médianes similaires mais des dispersions variables selon les catégories\n",
    "- Les Intermédiaires ont la médiane la plus basse (64,545€) malgré leur niveau d'expérience"
   ]
  },
  {
   "cell_type": "markdown",
   "id": "1d905c93",
   "metadata": {},
   "source": [
    "## Conclusion\n",
    "\n",
    "Cette analyse complète des employés de l'entreprise tech révèle plusieurs insights clés :\n",
    "\n",
    "**Structure des données :**\n",
    "- Dataset bien structuré avec 100 employés répartis sur 5 départements\n",
    "- Gestion efficace des valeurs manquantes avec des stratégies appropriées\n",
    "- Création de variables catégorielles enrichissant l'analyse\n",
    "\n",
    "**Observations principales :**\n",
    "- Salaire moyen de 64,504€ avec une distribution équilibrée\n",
    "- Prédominance du télétravail (55%) et d'employés expérimentés (58% d'experts)\n",
    "- Inégalités salariales entre départements (Marketing > IT > Logistics > HR > Finance)\n",
    "- Paradoxe : les Intermédiaires gagnent plus que les Experts en moyenne\n",
    "\n",
    "**Recommandations :**\n",
    "- Revoir la grille salariale pour harmoniser la rémunération par ancienneté\n",
    "- Analyser les écarts salariaux importants au sein des départements\n",
    "- Optimiser la politique de télétravail selon les départements\n",
    "- Investiguer les facteurs expliquant les disparités observées"
   ]
  }
 ],
 "metadata": {
  "kernelspec": {
   "display_name": "Python 3",
   "language": "python",
   "name": "python3"
  },
  "language_info": {
   "codemirror_mode": {
    "name": "ipython",
    "version": 3
   },
   "file_extension": ".py",
   "mimetype": "text/x-python",
   "name": "python",
   "nbconvert_exporter": "python",
   "pygments_lexer": "ipython3",
   "version": "3.13.3"
  }
 },
 "nbformat": 4,
 "nbformat_minor": 5
}
